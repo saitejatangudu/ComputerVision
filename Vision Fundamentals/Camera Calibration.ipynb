{
 "cells": [
  {
   "cell_type": "markdown",
   "id": "d95e5b45",
   "metadata": {},
   "source": [
    "This notebook aims to calibrate a camera using a checkerboard pattern and image processing techniques. Here's a summary of the workflow:\n",
    "\n",
    "1. **Checkerboard Generation**:\n",
    "   - A checkerboard pattern is generated with known 3D coordinates. Each square of the checkerboard represents a known physical distance. The coordinates are defined with one dimension representing the Z-axis (set as 1 for simplicity), while the other two dimensions represent the X and Y coordinates.\n",
    "\n",
    "2. **Image Capture**:\n",
    "   - An image of the checkerboard is captured using the camera to be calibrated. This image serves as the input for camera calibration.\n",
    "\n",
    "3. **Mouse Click Event**:\n",
    "   - Using OpenCV, a mouse click event is enabled to allow the user to click on the corners of the squares in the checkerboard image. These clicks represent the destination points in the image corresponding to the known 3D coordinates.\n",
    "\n",
    "4. **Projection Matrix Calculation**:\n",
    "   - The `get_projection_matrix` function calculates the entries of the Homography matrix between the known 3D coordinates and the clicked destination points in the image. This matrix transformation represents the mapping between the world coordinates and the image coordinates.\n",
    "\n",
    "5. **Camera Calibration**:\n",
    "   - The projection matrix is computed using Singular Value Decomposition (SVD) techniques, which effectively captures the transformation from the checkerboard's 3D space to the 2D image plane. This matrix is crucial for camera calibration.\n",
    "\n",
    "6. **Conclusion**:\n",
    "   - The notebook concludes with the display of the computed projection matrix, which serves as a fundamental component in camera calibration. By relating known 3D coordinates to their corresponding image locations, the camera's intrinsic and extrinsic parameters can be accurately estimated, facilitating tasks such as image rectification, 3D reconstruction, and pose estimation.\n",
    "\n",
    "Overall, the notebook provides a systematic approach to camera calibration using a checkerboard pattern and interactive click handling, enabling accurate mapping between 3D world coordinates and 2D image coordinates."
   ]
  },
  {
   "cell_type": "code",
   "execution_count": 1,
   "id": "3b1935f9",
   "metadata": {},
   "outputs": [],
   "source": [
    "import cv2\n",
    "import numpy as np"
   ]
  },
  {
   "cell_type": "code",
   "execution_count": 2,
   "id": "1f90a54c",
   "metadata": {},
   "outputs": [],
   "source": [
    "def click_event(event, x, y, flags, params):\n",
    "    # Check for left mouse clicks\n",
    "    if event == cv2.EVENT_LBUTTONDOWN:\n",
    "        # Append the coordinates of the click to the clicks list\n",
    "        clicks.append([x, y])\n",
    "\n",
    "        # Display the coordinates on the image window\n",
    "        font = cv2.FONT_HERSHEY_SIMPLEX\n",
    "        cv2.putText(params, f\"{x},{y}\", (x, y), font, 1, (255, 0, 0), 2)\n",
    "        cv2.imshow('image', params)\n",
    "\n",
    "    # Check for right mouse clicks\n",
    "    if event == cv2.EVENT_RBUTTONDOWN:\n",
    "        # Append the coordinates of the click to the clicks list\n",
    "        clicks.append([x, y])\n",
    "\n",
    "        # Display the coordinates and color values on the image window\n",
    "        font = cv2.FONT_HERSHEY_SIMPLEX\n",
    "        b, g, r = params[y, x]  # Extract BGR values from the clicked pixel\n",
    "        cv2.putText(params, f\"{b},{g},{r}\", (x, y), font, 1, (255, 255, 0), 2)\n",
    "        cv2.imshow('image', params)"
   ]
  },
  {
   "cell_type": "markdown",
   "id": "1bd21e2d",
   "metadata": {},
   "source": [
    "This method `click_event` is designed to handle mouse click events on an image using OpenCV (assuming `cv2` refers to OpenCV). Let's break down its functionality:\n",
    "\n",
    "1. **Function Parameters**: \n",
    "   - `event`: Represents the type of mouse event (e.g., left button down, right button down).\n",
    "   - `x` and `y`: Represent the coordinates of the mouse click.\n",
    "   - `flags`: Additional flags provided by OpenCV (not used in this method).\n",
    "   - `params`: Additional parameters that can be passed to the function.\n",
    "\n",
    "2. **Handling Left Mouse Clicks**:\n",
    "   - When a left mouse button is clicked (`cv2.EVENT_LBUTTONDOWN`), the coordinates `(x, y)` of the click are appended to a list called `clicks`.\n",
    "   - The coordinates of the click are then displayed on the image window using `cv2.putText()` function with the position `(x, y)` on the image.\n",
    "   - The updated image with the displayed coordinates is shown using `cv2.imshow()`.\n",
    "\n",
    "3. **Handling Right Mouse Clicks**:\n",
    "   - Similarly, when a right mouse button is clicked (`cv2.EVENT_RBUTTONDOWN`), the coordinates `(x, y)` of the click are appended to the `clicks` list.\n",
    "   - Additionally, the color values (BGR) of the pixel at the clicked coordinates are extracted using `params[y, x]`.\n",
    "   - The extracted color values along with the coordinates are displayed on the image window using `cv2.putText()`.\n",
    "   - The updated image with the displayed color values and coordinates is shown using `cv2.imshow()`.\n",
    "\n",
    "Overall, this method allows for interactive exploration of an image by displaying the coordinates of left mouse clicks and the color values of right mouse clicks."
   ]
  },
  {
   "cell_type": "code",
   "execution_count": 3,
   "id": "ffb5b3a4",
   "metadata": {},
   "outputs": [],
   "source": [
    "# Initialize the list to store click coordinates\n",
    "clicks = []\n",
    "\n",
    "# Read the image\n",
    "two_d = cv2.imread(\"two_d.jpg\")\n",
    "\n",
    "# Set the image as the parameter for the click event function\n",
    "param = two_d\n",
    "\n",
    "# Display the image and set mouse callback function\n",
    "cv2.imshow('image', two_d)\n",
    "cv2.setMouseCallback('image', click_event, param)\n",
    "\n",
    "# Wait for a key to be pressed to exit\n",
    "cv2.waitKey(0)\n",
    "\n",
    "# Close the window\n",
    "cv2.destroyAllWindows()\n",
    "\n",
    "# Store the coordinates of clicks in a variable\n",
    "dest_clicks = clicks"
   ]
  },
  {
   "cell_type": "markdown",
   "id": "c1e9d822",
   "metadata": {},
   "source": [
    "This script utilizes the `click_event` method to enable interactive click handling on an image using OpenCV. Let's break down what each part does:\n",
    "\n",
    "1. **Initializing Clicks List**: \n",
    "   - `clicks = []`: This initializes an empty list called `clicks` which will store the coordinates of mouse clicks.\n",
    "\n",
    "2. **Reading the Image**:\n",
    "   - `two_d = cv2.imread(\"two_d.jpg\")`: Reads an image named \"two_d.jpg\" from the current directory (assuming it's present) using OpenCV's `imread` function. This image will be used for mouse click handling.\n",
    "\n",
    "3. **Setting Parameters**:\n",
    "   - `param = two_d`: Sets the variable `param` to the image `two_d`, which will be passed as a parameter to the `click_event` function.\n",
    "\n",
    "4. **Displaying the Image**:\n",
    "   - `cv2.imshow('image', two_d)`: Displays the image window with the title \"image\" containing the loaded image `two_d`.\n",
    "   - `cv2.setMouseCallback('image', click_event, param)`: Sets a mouse callback function `click_event` on the image window. This function will handle mouse events on the displayed image. The `param` variable (image) is passed as a parameter to the callback function.\n",
    "\n",
    "5. **Waiting for User Input**:\n",
    "   - `cv2.waitKey(0)`: Waits indefinitely for a key press. The argument `0` indicates that the program will wait until any key is pressed.\n",
    "   \n",
    "6. **Closing Windows**:\n",
    "   - `cv2.destroyAllWindows()`: Closes all OpenCV windows.\n",
    "\n",
    "7. **Storing Click Coordinates**:\n",
    "   - `dest_clicks = clicks`: Stores the coordinates of clicks in the `dest_clicks` variable for further processing.\n",
    "\n",
    "This script allows the user to interactively click on the displayed image, capturing the coordinates of each click. After the user finishes clicking and presses any key, the program exits, and the coordinates are stored in the `dest_clicks` variable for later use."
   ]
  },
  {
   "cell_type": "code",
   "execution_count": 13,
   "id": "ebb75787",
   "metadata": {},
   "outputs": [
    {
     "data": {
      "text/plain": [
       "[[1, 3, 2], [1, 5, 3], [1, 6, 4], [1, 3, 6], [1, 6, 7], [1, 8, 2]]"
      ]
     },
     "execution_count": 13,
     "metadata": {},
     "output_type": "execute_result"
    }
   ],
   "source": [
    "source_clicks = [[1,3,2],[1,5,3],[1,6,4],[1,3,6],[1,6,7],[1,8,2]]\n",
    "source_clicks "
   ]
  },
  {
   "cell_type": "code",
   "execution_count": 14,
   "id": "96503678",
   "metadata": {},
   "outputs": [
    {
     "data": {
      "text/plain": [
       "[[411, 370], [287, 304], [223, 241], [404, 119], [220, 61], [86, 371]]"
      ]
     },
     "execution_count": 14,
     "metadata": {},
     "output_type": "execute_result"
    }
   ],
   "source": [
    "dest_clicks"
   ]
  },
  {
   "cell_type": "code",
   "execution_count": 15,
   "id": "4a5b2853",
   "metadata": {},
   "outputs": [],
   "source": [
    "import numpy as np\n",
    "\n",
    "def get_projection_matrix(source, destination):\n",
    "    \"\"\"Calculates the entries of the Homography matrix between two sets of matching points.\n",
    "\n",
    "    Args:\n",
    "        source (list): Source points where each point is in (x, y, z) format.\n",
    "        destination (list): Destination points where each point is in (x, y) format.\n",
    "\n",
    "    Returns:\n",
    "        numpy.ndarray: A numpy array of shape (4, 3) representing the projection matrix.\n",
    "\n",
    "    Raises:\n",
    "        AssertionError: If source or destination has less than six points or if they are of different sizes.\n",
    "    \"\"\"\n",
    "    assert len(source) >= 6, \"Must provide more than 6 source points\"\n",
    "    assert len(destination) >= 6, \"Must provide more than 6 destination points\"\n",
    "    assert len(source) == len(destination), \"Source and destination must be of equal length\"\n",
    "\n",
    "    A = []\n",
    "    for i in range(len(source)):\n",
    "        s_x, s_y, s_z = source[i]\n",
    "        d_x, d_y = destination[i]\n",
    "\n",
    "        # Constructing the matrix A\n",
    "        A.append([s_x, s_y, s_z, 1, 0, 0, 0, 0, -d_x * s_x, -d_x * s_y, -d_x * s_z, -d_x])\n",
    "        A.append([0, 0, 0, 0, s_x, s_y, s_z, 1, -d_y * s_x, -d_y * s_y, -d_y * s_z, -d_y])\n",
    "\n",
    "    # Convert A to a numpy array\n",
    "    A = np.array(A)\n",
    "    return A"
   ]
  },
  {
   "cell_type": "markdown",
   "id": "8587a5da",
   "metadata": {},
   "source": [
    "This function, `get_projection_matrix`, calculates the entries of the Homography matrix between two sets of matching points. Here's a breakdown of its functionality:\n",
    "\n",
    "1. **Function Parameters**:\n",
    "   - `source`: List of source points where each point is represented as (x, y, z).\n",
    "   - `destination`: List of destination points where each point is represented as (x, y).\n",
    "\n",
    "2. **Input Validation**:\n",
    "   - Asserts that the length of `source` and `destination` lists is at least 6 (minimum required points for Homography calculation).\n",
    "   - Ensures that the lengths of `source` and `destination` lists are equal.\n",
    "\n",
    "3. **Constructing Matrix A**:\n",
    "   - Initializes an empty list `A` to store the entries of the matrix A.\n",
    "   - Iterates over each pair of corresponding points in `source` and `destination`.\n",
    "   - For each pair, extracts the coordinates `(s_x, s_y, s_z)` from `source` and `(d_x, d_y)` from `destination`.\n",
    "   - Constructs two rows of the matrix A based on the equations of Homography.\n",
    "   - Appends these rows to the list `A`.\n",
    "\n",
    "4. **Conversion to Numpy Array**:\n",
    "   - Converts the list `A` to a numpy array for further computation.\n",
    "\n",
    "5. **Returns**:\n",
    "   - Returns the numpy array `A`, representing the projection matrix.\n",
    "\n",
    "This function effectively prepares the data for calculating the Homography matrix, a fundamental transformation used for perspective correction and image registration."
   ]
  },
  {
   "cell_type": "code",
   "execution_count": 21,
   "id": "d73f9827",
   "metadata": {
    "scrolled": true
   },
   "outputs": [
    {
     "data": {
      "text/plain": [
       "array([[-7.06123299e-01, -8.27134992e-10,  4.66652674e-11,\n",
       "         7.06123307e-01],\n",
       "       [-3.72505796e-02, -1.82721343e-11, -7.58523375e-10,\n",
       "         3.72505858e-02],\n",
       "       [ 1.50834160e-03, -7.03113782e-14,  1.90143935e-13,\n",
       "        -1.50834159e-03]])"
      ]
     },
     "execution_count": 21,
     "metadata": {},
     "output_type": "execute_result"
    }
   ],
   "source": [
    "# Calculate the projection matrix A\n",
    "A = get_projection_matrix(source_clicks, dest_clicks)\n",
    "\n",
    "# Calculate A transpose multiplied by A\n",
    "projection_matrix = A.T @ A\n",
    "\n",
    "# Perform Singular Value Decomposition (SVD)\n",
    "u, D, v = np.linalg.svd(projection_matrix, full_matrices=True)\n",
    "\n",
    "# Extract the last row of v and reshape it into a 3x4 projection matrix\n",
    "projection_matrix = v[-1].reshape(3, 4)\n",
    "\n",
    "# Display the projection matrix\n",
    "projection_matrix"
   ]
  },
  {
   "cell_type": "markdown",
   "id": "b46cf477",
   "metadata": {},
   "source": [
    "This script utilizes the projection matrix calculation based on the provided source and destination points. Here's a breakdown of each step:\n",
    "\n",
    "1. **Calculation of Projection Matrix A**:\n",
    "   - `A = get_projection_matrix(source_clicks, dest_clicks)`: Calls the `get_projection_matrix` function with `source_clicks` and `dest_clicks`, which are the lists of source and destination points respectively, to calculate the projection matrix.\n",
    "\n",
    "2. **Calculation of A Transpose multiplied by A**:\n",
    "   - `projection_matrix = A.T @ A`: Calculates the product of the transpose of matrix A and A itself.\n",
    "\n",
    "3. **Singular Value Decomposition (SVD)**:\n",
    "   - `u, D, v = np.linalg.svd(projection_matrix, full_matrices=True)`: Performs Singular Value Decomposition (SVD) on the `projection_matrix` to obtain matrices `u`, `D`, and `v`.\n",
    "\n",
    "4. **Extracting Projection Matrix from SVD**:\n",
    "   - Extracts the last row of matrix `v`, which corresponds to the singular vector corresponding to the smallest singular value.\n",
    "   - Reshapes this vector into a 3x4 projection matrix.\n",
    "\n",
    "5. **Displaying the Projection Matrix**:\n",
    "   - The calculated projection matrix is displayed.\n",
    "\n",
    "This script effectively computes the projection matrix required for perspective transformation or image rectification, based on the provided source and destination points."
   ]
  }
 ],
 "metadata": {
  "kernelspec": {
   "display_name": "Python 3",
   "language": "python",
   "name": "python3"
  },
  "language_info": {
   "codemirror_mode": {
    "name": "ipython",
    "version": 3
   },
   "file_extension": ".py",
   "mimetype": "text/x-python",
   "name": "python",
   "nbconvert_exporter": "python",
   "pygments_lexer": "ipython3",
   "version": "3.8.8"
  }
 },
 "nbformat": 4,
 "nbformat_minor": 5
}
