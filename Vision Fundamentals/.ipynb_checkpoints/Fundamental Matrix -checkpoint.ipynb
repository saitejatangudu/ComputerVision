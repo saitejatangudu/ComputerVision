{
 "cells": [
  {
   "cell_type": "markdown",
   "id": "c1c919de",
   "metadata": {},
   "source": [
    "This notebook focuses on the calculation of the fundamental matrix in computer vision using Python with OpenCV and NumPy libraries. Below are the main steps covered in the notebook:\n",
    "\n",
    "1. **Loading Images**: The notebook starts by loading two images, presumably containing different views of a scene, using OpenCV's `imread` function.\n",
    "\n",
    "2. **Converting to Grayscale**: The color images are converted to grayscale using OpenCV's `cvtColor` function.\n",
    "\n",
    "3. **Extracting Key Features**: Key features (keypoints and descriptors) are extracted from both grayscale images using the Scale-Invariant Feature Transform (SIFT) algorithm.\n",
    "\n",
    "4. **Matching Key Features**: The keypoint descriptors between the two views are matched using a Brute-Force Matcher with the L1 norm distance metric.\n",
    "\n",
    "5. **Visualizing Matches**: The matched keypoints between the two views are visualized on one of the images using OpenCV's `drawMatches` function and displayed using Matplotlib.\n",
    "\n",
    "6. **Calculating Fundamental Matrix**: A function `get_fundamental_matrix` is defined to compute the fundamental matrix from corresponding keypoints between the two views. The function constructs a system of equations and uses Singular Value Decomposition (SVD) to solve it.\n",
    "\n",
    "7. **Displaying Fundamental Matrix**: The fundamental matrix is computed and reshaped to a 3x3 matrix. Finally, it is displayed as the output.\n",
    "\n",
    "This notebook provides a comprehensive guide to calculating the fundamental matrix, an essential concept in stereo vision and structure-from-motion tasks in computer vision."
   ]
  },
  {
   "cell_type": "code",
   "execution_count": 1,
   "id": "653cd866",
   "metadata": {},
   "outputs": [],
   "source": [
    "import cv2\n",
    "import matplotlib.pyplot as plt\n",
    "import numpy as np\n",
    "%matplotlib inline"
   ]
  },
  {
   "cell_type": "code",
   "execution_count": 2,
   "id": "72f9d4cc",
   "metadata": {},
   "outputs": [],
   "source": [
    "# Importing the OpenCV library\n",
    "import cv2\n",
    "\n",
    "# Reading the first view of the image\n",
    "view1_path = \"/home/nocap20/Desktop/tajmahal_view1.jpeg\"\n",
    "view1 = cv2.imread(view1_path)\n",
    "\n",
    "# Reading the second view of the image\n",
    "view2_path = \"/home/nocap20/Desktop/tajmahal_view2.jpeg\"\n",
    "view2 = cv2.imread(view2_path)"
   ]
  },
  {
   "cell_type": "code",
   "execution_count": null,
   "id": "b7db5dae",
   "metadata": {
    "scrolled": true
   },
   "outputs": [],
   "source": [
    "# Converting the first view to grayscale\n",
    "view1 = cv2.cvtColor(view1, cv2.COLOR_BGR2GRAY)\n",
    "\n",
    "# Converting the second view to grayscale\n",
    "view2 = cv2.cvtColor(view2, cv2.COLOR_BGR2GRAY)"
   ]
  },
  {
   "cell_type": "code",
   "execution_count": null,
   "id": "79aa4713",
   "metadata": {},
   "outputs": [],
   "source": [
    "# Creating the SIFT (Scale-Invariant Feature Transform) object\n",
    "sift = cv2.SIFT_create()\n",
    "\n",
    "# Detecting and computing key features for view 1\n",
    "kp_1, des_1 = sift.detectAndCompute(view1, None)\n",
    "\n",
    "# Detecting and computing key features for view 2\n",
    "kp_2, des_2 = sift.detectAndCompute(view2, None)"
   ]
  },
  {
   "cell_type": "code",
   "execution_count": null,
   "id": "04ae7703",
   "metadata": {},
   "outputs": [],
   "source": [
    "# Creating a Brute-Force Matcher object with L1 norm distance metric\n",
    "bf = cv2.BFMatcher(cv2.NORM_L1, crossCheck=True)\n",
    "\n",
    "# Matching keypoint descriptors between view 1 and view 2\n",
    "matches = bf.match(des_1, des_2)\n",
    "\n",
    "# Sorting the matches based on their distances\n",
    "matches = sorted(matches, key=lambda x: x.distance)"
   ]
  },
  {
   "cell_type": "code",
   "execution_count": null,
   "id": "85277bd1",
   "metadata": {},
   "outputs": [],
   "source": [
    "\n",
    "# Drawing the matched keypoints between view 1 and view 2 on view 2 image\n",
    "img3 = cv2.drawMatches(view1, kp_1, view2, kp_2, matches[:50], view2, flags=2)\n",
    "\n",
    "# Displaying the image with the matched keypoints\n",
    "plt.imshow(img3)\n",
    "plt.show()"
   ]
  },
  {
   "cell_type": "code",
   "execution_count": null,
   "id": "628b5b78",
   "metadata": {},
   "outputs": [],
   "source": [
    "# Extracting the coordinates of the first 8 keypoints from view 1 and view 2\n",
    "view1_kps = [kp_1[i].pt for i in range(8)]\n",
    "view2_kps = [kp_2[i].pt for i in range(8)]\n",
    "\n",
    "# Collecting the coordinates of keypoints of view 1 and view 2\n",
    "v1_kps = view1_kps\n",
    "v2_kps = view2_kps"
   ]
  },
  {
   "cell_type": "code",
   "execution_count": null,
   "id": "fe144db5",
   "metadata": {},
   "outputs": [],
   "source": [
    "def get_fundamental_matrix(v1_kps, v2_kps):\n",
    "    assert len(v1_kps) >= 8, \"Must provide more than 8 source points\"\n",
    "    assert len(v2_kps) >= 8, \"Must provide more than 8 destination points\"\n",
    "    assert len(v1_kps) == len(v2_kps), \"Source and destination must be of equal length\"\n",
    "    \n",
    "    A = []\n",
    "    for i in range(len(v1_kps)):\n",
    "        l_u, l_v = v1_kps[i]\n",
    "        r_u, r_v = v2_kps[i]\n",
    "        A.append([r_u * l_u, r_v * l_u, l_u, r_u * l_v, r_v * l_v, l_v, r_u, r_v, 1])\n",
    "    A = np.array(A)\n",
    "    return A"
   ]
  },
  {
   "cell_type": "code",
   "execution_count": null,
   "id": "4a641e03",
   "metadata": {},
   "outputs": [],
   "source": [
    "# Computing the fundamental matrix using SVD\n",
    "f_matrix = get_fundamental_matrix(v1_kps, v2_kps)\n",
    "u, d, v = np.linalg.svd(f_matrix)\n",
    "\n",
    "# Reshaping the fundamental matrix\n",
    "f_matrix = v[-1].reshape(3, 3)\n",
    "\n",
    "# Displaying the fundamental matrix\n",
    "f_matrix"
   ]
  }
 ],
 "metadata": {
  "kernelspec": {
   "display_name": "Python 3",
   "language": "python",
   "name": "python3"
  },
  "language_info": {
   "codemirror_mode": {
    "name": "ipython",
    "version": 3
   },
   "file_extension": ".py",
   "mimetype": "text/x-python",
   "name": "python",
   "nbconvert_exporter": "python",
   "pygments_lexer": "ipython3",
   "version": "3.8.8"
  }
 },
 "nbformat": 4,
 "nbformat_minor": 5
}
