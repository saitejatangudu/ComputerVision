{
 "cells": [
  {
   "cell_type": "code",
   "execution_count": 1,
   "id": "3b1935f9",
   "metadata": {},
   "outputs": [],
   "source": [
    "import cv2\n",
    "import numpy as np"
   ]
  },
  {
   "cell_type": "markdown",
   "id": "bd9126c8",
   "metadata": {},
   "source": [
    "This notebook focuses on computing the Homography matrix, a fundamental transformation used in computer vision tasks such as image registration, stitching, and perspective transformation. Here's a summary of the workflow:\n",
    "\n",
    "1. **Mouse Click Event Handling**:\n",
    "   - A `click_event` function is defined to handle mouse click events on images. It captures the coordinates of left and right mouse clicks, displaying them on the image window.\n",
    "\n",
    "2. **Source Image Click Handling**:\n",
    "   - The notebook captures the coordinates of source points by displaying an image and allowing the user to click on specific points using the `click_event` function.\n",
    "\n",
    "3. **Destination Image Click Handling**:\n",
    "   - Similarly, the notebook captures the coordinates of destination points by displaying another image and enabling the user to click on corresponding points.\n",
    "\n",
    "4. **Homography Matrix Calculation**:\n",
    "   - The `get_homography_matrix` function calculates the entries of the Homography matrix based on the source and destination points.\n",
    "   - It constructs matrix A using the point correspondences and performs Singular Value Decomposition (SVD) on A to obtain matrices U, D, and V.\n",
    "   - The last row of matrix V, corresponding to the smallest singular value, is extracted, normalized, and reshaped into a 3x3 matrix to obtain the Homography matrix.\n",
    "\n",
    "5. **Displaying the Homography Matrix**:\n",
    "   - The computed Homography matrix is displayed, representing the transformation between the source and destination points.\n",
    "\n",
    "By executing these steps, the notebook provides a systematic approach to computing the Homography matrix, which is essential for various image processing tasks requiring perspective transformation and geometric alignment."
   ]
  },
  {
   "cell_type": "code",
   "execution_count": 2,
   "id": "1f90a54c",
   "metadata": {},
   "outputs": [],
   "source": [
    "def click_event(event, x, y, flags, params):\n",
    "    \"\"\"\n",
    "    Handle mouse click events.\n",
    "\n",
    "    Args:\n",
    "        event (int): The type of mouse event.\n",
    "        x (int): The x-coordinate of the mouse click.\n",
    "        y (int): The y-coordinate of the mouse click.\n",
    "        flags (int): Additional flags indicating mouse events.\n",
    "        params: Additional parameters passed to the function.\n",
    "    \"\"\"\n",
    "    global clicks  # Assuming clicks is a global variable to store click coordinates\n",
    "\n",
    "    # Check for left mouse clicks\n",
    "    if event == cv2.EVENT_LBUTTONDOWN:\n",
    "        # Append the coordinates of the left click to clicks list\n",
    "        clicks.append([x, y])\n",
    "\n",
    "        # Display the coordinates on the image window\n",
    "        font = cv2.FONT_HERSHEY_SIMPLEX\n",
    "        cv2.putText(params, f\"{x},{y}\", (x, y), font, 1, (255, 0, 0), 2)\n",
    "        cv2.imshow('image', params)\n",
    "\n",
    "    # Check for right mouse clicks\n",
    "    if event == cv2.EVENT_RBUTTONDOWN:\n",
    "        # Append the coordinates of the right click to clicks list\n",
    "        clicks.append([x, y])\n",
    "\n",
    "        # Display the BGR color values of the clicked pixel on the image window\n",
    "        font = cv2.FONT_HERSHEY_SIMPLEX\n",
    "        b = params[y, x, 0]\n",
    "        g = params[y, x, 1]\n",
    "        r = params[y, x, 2]\n",
    "        cv2.putText(params, f\"{b},{g},{r}\", (x, y), font, 1, (255, 255, 0), 2)\n",
    "        cv2.imshow('image', params)"
   ]
  },
  {
   "cell_type": "markdown",
   "id": "dc60a06b",
   "metadata": {},
   "source": [
    "This function `click_event` handles mouse click events on an image using OpenCV. Here's a breakdown:\n",
    "\n",
    "1. **Function Parameters**:\n",
    "   - `event`: Represents the type of mouse event (e.g., left button down, right button down).\n",
    "   - `x` and `y`: Represent the coordinates of the mouse click.\n",
    "   - `flags`: Additional flags provided by OpenCV (not used in this method).\n",
    "   - `params`: Additional parameters that can be passed to the function.\n",
    "\n",
    "2. **Global Variable**:\n",
    "   - `global clicks`: Assuming `clicks` is a global variable to store click coordinates.\n",
    "\n",
    "3. **Handling Left Mouse Clicks**:\n",
    "   - When a left mouse button is clicked (`cv2.EVENT_LBUTTONDOWN`), the coordinates `(x, y)` of the click are appended to a list called `clicks`.\n",
    "   - The coordinates of the click are then displayed on the image window using `cv2.putText()` function with the position `(x, y)` on the image.\n",
    "   - The updated image with the displayed coordinates is shown using `cv2.imshow()`.\n",
    "\n",
    "4. **Handling Right Mouse Clicks**:\n",
    "   - Similarly, when a right mouse button is clicked (`cv2.EVENT_RBUTTONDOWN`), the coordinates `(x, y)` of the click are appended to the `clicks` list.\n",
    "   - Additionally, the BGR color values of the pixel at the clicked coordinates are extracted from the image (`params`) using array indexing (`params[y, x, 0]`, `params[y, x, 1]`, `params[y, x, 2]`).\n",
    "   - The extracted color values along with the coordinates are displayed on the image window using `cv2.putText()`.\n",
    "   - The updated image with the displayed color values and coordinates is shown using `cv2.imshow()`.\n",
    "\n",
    "This function facilitates interactive exploration of an image by displaying the coordinates and color values of left and right mouse clicks, respectively."
   ]
  },
  {
   "cell_type": "code",
   "execution_count": 3,
   "id": "ffb5b3a4",
   "metadata": {},
   "outputs": [],
   "source": [
    "# List to store source click coordinates\n",
    "clicks = []\n",
    "\n",
    "# Read the source image\n",
    "source = cv2.imread(\"/home/nocap20/Desktop/source.jpeg\")\n",
    "\n",
    "# Set the source image as parameter\n",
    "param = source\n",
    "\n",
    "# Display the source image and set mouse callback function\n",
    "cv2.imshow('image', source)\n",
    "cv2.setMouseCallback('image', click_event, param)\n",
    "\n",
    "# Wait for a key to be pressed to exit\n",
    "cv2.waitKey(0)\n",
    "\n",
    "# Close the window\n",
    "cv2.destroyAllWindows()\n",
    "\n",
    "# Store the coordinates of source clicks\n",
    "source_clicks = clicks\n",
    "\n",
    "# Reset the clicks list\n",
    "clicks = []\n",
    "\n",
    "# Read the destination image\n",
    "dest = cv2.imread(\"/home/nocap20/Desktop/destination.jpeg\")\n",
    "\n",
    "# Set the destination image as parameter\n",
    "param = dest\n",
    "\n",
    "# Display the destination image and set mouse callback function\n",
    "cv2.imshow('image', dest)\n",
    "cv2.setMouseCallback('image', click_event, param)\n",
    "\n",
    "# Wait for a key to be pressed to exit\n",
    "cv2.waitKey(0)\n",
    "\n",
    "# Close the window\n",
    "cv2.destroyAllWindows()\n",
    "\n",
    "# Store the coordinates of destination clicks\n",
    "dest_clicks = clicks"
   ]
  },
  {
   "cell_type": "markdown",
   "id": "fa2a79e9",
   "metadata": {},
   "source": [
    "This section of the notebook captures the source and destination coordinates from two images using the `click_event` function, which enables interactive click handling. Here's a summary of each step:\n",
    "\n",
    "1. **Source Image Click Handling**:\n",
    "   - A list named `clicks` is initialized to store the coordinates of source clicks.\n",
    "   - The source image is read using `cv2.imread()` from the specified file path (\"/home/nocap20/Desktop/source.jpeg\").\n",
    "   - The source image is displayed, and the `click_event` function is set as the mouse callback function using `cv2.setMouseCallback()`.\n",
    "   - The program waits for a key press using `cv2.waitKey(0)` before closing the window and capturing the clicked coordinates.\n",
    "   - The coordinates of the source clicks are stored in the variable `source_clicks`.\n",
    "\n",
    "2. **Destination Image Click Handling**:\n",
    "   - The `clicks` list is reset to capture the destination coordinates separately.\n",
    "   - The destination image is read from the specified file path (\"/home/nocap20/Desktop/destination.jpeg\").\n",
    "   - The destination image is displayed, and the `click_event` function is set as the mouse callback function.\n",
    "   - Similar to the source image, the program waits for a key press before closing the window and captures the clicked coordinates.\n",
    "   - The coordinates of the destination clicks are stored in the variable `dest_clicks`.\n",
    "\n",
    "By executing these cells, the notebook captures the coordinates of corresponding points in the source and destination images, which are crucial for various image processing tasks such as camera calibration, image registration, and perspective transformation."
   ]
  },
  {
   "cell_type": "code",
   "execution_count": 4,
   "id": "ebb75787",
   "metadata": {},
   "outputs": [
    {
     "data": {
      "text/plain": [
       "[[99, 278], [349, 106], [403, 264], [128, 400]]"
      ]
     },
     "execution_count": 4,
     "metadata": {},
     "output_type": "execute_result"
    }
   ],
   "source": [
    "source_clicks # displaying source clicks"
   ]
  },
  {
   "cell_type": "code",
   "execution_count": 5,
   "id": "96503678",
   "metadata": {},
   "outputs": [
    {
     "data": {
      "text/plain": [
       "[[102, 205], [491, 192], [488, 377], [97, 387]]"
      ]
     },
     "execution_count": 5,
     "metadata": {},
     "output_type": "execute_result"
    }
   ],
   "source": [
    "dest_clicks # displaying destination clicks"
   ]
  },
  {
   "cell_type": "code",
   "execution_count": 17,
   "id": "4a5b2853",
   "metadata": {},
   "outputs": [],
   "source": [
    "import numpy as np\n",
    "\n",
    "def get_homography_matrix(source, destination):\n",
    "    \"\"\"\n",
    "    Calculates the entries of the Homography matrix between two sets of matching points.\n",
    "\n",
    "    Args:\n",
    "        source (list): Source points where each point is in (x, y) format.\n",
    "        destination (list): Destination points where each point is in (x, y) format.\n",
    "\n",
    "    Returns:\n",
    "        numpy.ndarray: A numpy array of shape (3, 3) representing the Homography matrix.\n",
    "\n",
    "    Raises:\n",
    "        AssertionError: If source or destination has less than four points or if they are of different sizes.\n",
    "    \"\"\"\n",
    "    assert len(source) >= 4, \"Must provide more than 4 source points\"\n",
    "    assert len(destination) >= 4, \"Must provide more than 4 destination points\"\n",
    "    assert len(source) == len(destination), \"Source and destination must be of equal length\"\n",
    "\n",
    "    A = []\n",
    "    for i in range(len(source)):\n",
    "        s_x, s_y = source[i]\n",
    "        d_x, d_y = destination[i]\n",
    "\n",
    "        # Constructing the matrix A\n",
    "        A.append([s_x, s_y, 1, 0, 0, 0, -d_x * s_x, -d_x * s_y, -d_x])\n",
    "        A.append([0, 0, 0, s_x, s_y, 1, -d_y * s_x, -d_y * s_y, -d_y])\n",
    "\n",
    "    # Convert A to a numpy array\n",
    "    A = np.array(A)\n",
    "    return A"
   ]
  },
  {
   "cell_type": "markdown",
   "id": "a3f31f5b",
   "metadata": {},
   "source": [
    "This function, `get_homography_matrix`, calculates the entries of the Homography matrix between two sets of matching points. Here's an overview of its functionality:\n",
    "\n",
    "1. **Function Parameters**:\n",
    "   - `source`: List of source points where each point is represented as (x, y).\n",
    "   - `destination`: List of destination points where each point is represented as (x, y).\n",
    "\n",
    "2. **Input Validation**:\n",
    "   - Asserts that the length of `source` and `destination` lists is at least 4 (minimum required points for Homography calculation).\n",
    "   - Ensures that the lengths of `source` and `destination` lists are equal.\n",
    "\n",
    "3. **Constructing Matrix A**:\n",
    "   - Initializes an empty list `A` to store the entries of matrix A.\n",
    "   - Iterates over each pair of corresponding points in `source` and `destination`.\n",
    "   - For each pair, extracts the coordinates `(s_x, s_y)` from `source` and `(d_x, d_y)` from `destination`.\n",
    "   - Constructs two rows of matrix A based on the equations of Homography.\n",
    "   - Appends these rows to the list `A`.\n",
    "\n",
    "4. **Conversion to Numpy Array**:\n",
    "   - Converts the list `A` to a numpy array for further computation.\n",
    "\n",
    "5. **Returns**:\n",
    "   - Returns the numpy array `A`, representing the Homography matrix.\n",
    "\n",
    "This function prepares the data for computing the Homography matrix, which is fundamental in computer vision tasks such as image registration, stitching, and perspective transformation."
   ]
  },
  {
   "cell_type": "code",
   "execution_count": 18,
   "id": "7ebba16d",
   "metadata": {},
   "outputs": [],
   "source": [
    "A = get_homography_matrix(source_clicks,dest_clicks) # calculating A"
   ]
  },
  {
   "cell_type": "code",
   "execution_count": 19,
   "id": "a94dd119",
   "metadata": {},
   "outputs": [
    {
     "data": {
      "text/plain": [
       "array([[     99,     278,       1,       0,       0,       0,  -10098,\n",
       "         -28356,    -102],\n",
       "       [      0,       0,       0,      99,     278,       1,  -20295,\n",
       "         -56990,    -205],\n",
       "       [    349,     106,       1,       0,       0,       0, -171359,\n",
       "         -52046,    -491],\n",
       "       [      0,       0,       0,     349,     106,       1,  -67008,\n",
       "         -20352,    -192],\n",
       "       [    403,     264,       1,       0,       0,       0, -196664,\n",
       "        -128832,    -488],\n",
       "       [      0,       0,       0,     403,     264,       1, -151931,\n",
       "         -99528,    -377],\n",
       "       [    128,     400,       1,       0,       0,       0,  -12416,\n",
       "         -38800,     -97],\n",
       "       [      0,       0,       0,     128,     400,       1,  -49536,\n",
       "        -154800,    -387]])"
      ]
     },
     "execution_count": 19,
     "metadata": {},
     "output_type": "execute_result"
    }
   ],
   "source": [
    "A"
   ]
  },
  {
   "cell_type": "code",
   "execution_count": 31,
   "id": "ace3e0ea",
   "metadata": {},
   "outputs": [
    {
     "data": {
      "text/plain": [
       "array([[ 2.15988733e+00, -5.27844463e-01,  4.94246010e+01],\n",
       "       [ 1.28355668e+00,  1.52816200e+00, -3.17733495e+02],\n",
       "       [ 1.50261422e-03, -2.33006320e-05,  1.00000000e+00]])"
      ]
     },
     "execution_count": 31,
     "metadata": {},
     "output_type": "execute_result"
    }
   ],
   "source": [
    "# Calculate A transpose multiplied by A\n",
    "A = A.T @ A\n",
    "\n",
    "# Perform Singular Value Decomposition (SVD) on A\n",
    "U, D, V = np.linalg.svd(A)\n",
    "\n",
    "# Extract the last row of V, normalize it, and reshape it into a 3x3 matrix\n",
    "homography_matrix = (V[-1] / V[-1][-1]).reshape(3, 3)\n",
    "\n",
    "# Display the homography matrix\n",
    "homography_matrix"
   ]
  },
  {
   "cell_type": "markdown",
   "id": "d63b201d",
   "metadata": {},
   "source": [
    "This section of the notebook calculates the Homography matrix using Singular Value Decomposition (SVD) techniques. Here's a summary of each step:\n",
    "\n",
    "1. **Calculation of A Transpose multiplied by A**:\n",
    "   - `A = A.T @ A`: Calculates the product of the transpose of matrix A and A itself, resulting in a symmetric matrix.\n",
    "\n",
    "2. **Singular Value Decomposition (SVD)**:\n",
    "   - `U, D, V = np.linalg.svd(A)`: Performs Singular Value Decomposition (SVD) on matrix A, decomposing it into three matrices U, D, and V.\n",
    "\n",
    "3. **Extracting Homography Matrix from SVD**:\n",
    "   - Extracts the last row of matrix V, which corresponds to the singular vector corresponding to the smallest singular value.\n",
    "   - Normalizes this vector and reshapes it into a 3x3 matrix to obtain the Homography matrix.\n",
    "\n",
    "4. **Displaying the Homography Matrix**:\n",
    "   - The computed Homography matrix is displayed.\n",
    "\n",
    "This process computes the Homography matrix, which represents the transformation between the source and destination points. It's crucial for tasks like image registration, perspective transformation, and augmented reality applications."
   ]
  }
 ],
 "metadata": {
  "kernelspec": {
   "display_name": "Python 3",
   "language": "python",
   "name": "python3"
  },
  "language_info": {
   "codemirror_mode": {
    "name": "ipython",
    "version": 3
   },
   "file_extension": ".py",
   "mimetype": "text/x-python",
   "name": "python",
   "nbconvert_exporter": "python",
   "pygments_lexer": "ipython3",
   "version": "3.8.8"
  }
 },
 "nbformat": 4,
 "nbformat_minor": 5
}
